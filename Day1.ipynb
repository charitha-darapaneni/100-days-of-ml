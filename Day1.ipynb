{
 "cells": [
  {
   "cell_type": "code",
   "execution_count": 27,
   "id": "4dc75862-b459-4a7d-aa64-af065c8c4e66",
   "metadata": {},
   "outputs": [],
   "source": [
    "#importing libraries\n",
    "import pandas as pd\n",
    "import numpy as np\n",
    "from sklearn.impute import SimpleImputer\n",
    "from sklearn.preprocessing import LabelEncoder, OneHotEncoder\n",
    "from sklearn.compose import ColumnTransformer\n",
    "from sklearn.model_selection import train_test_split\n",
    "from sklearn.preprocessing import StandardScaler"
   ]
  },
  {
   "cell_type": "code",
   "execution_count": 4,
   "id": "c1147e61-e2f0-4a8f-8ee0-852ee8e2e724",
   "metadata": {},
   "outputs": [],
   "source": [
    "#reading the data\n",
    "data = pd.read_csv('data.csv')"
   ]
  },
  {
   "cell_type": "code",
   "execution_count": 5,
   "id": "be7f428f-d9df-4abd-abef-49d83bebb8af",
   "metadata": {},
   "outputs": [
    {
     "name": "stdout",
     "output_type": "stream",
     "text": [
      "   Country   Age   Salary Purchased\n",
      "0   France  44.0  72000.0        No\n",
      "1    Spain  27.0  48000.0       Yes\n",
      "2  Germany  30.0  54000.0        No\n",
      "3    Spain  38.0  61000.0        No\n",
      "4  Germany  40.0      NaN       Yes\n"
     ]
    }
   ],
   "source": [
    "print(data.head())"
   ]
  },
  {
   "cell_type": "code",
   "execution_count": 8,
   "id": "a3ea4a74-faeb-4cd2-8db8-9708b7442628",
   "metadata": {},
   "outputs": [],
   "source": [
    "X = data.iloc[ : , :-1].values\n",
    "Y = data.iloc[:,3].values"
   ]
  },
  {
   "cell_type": "code",
   "execution_count": 12,
   "id": "00607c88-989f-44dc-9595-e5cb068a99ac",
   "metadata": {},
   "outputs": [],
   "source": [
    "#handling missing values\n",
    "imputer = SimpleImputer(missing_values = np.nan, strategy = 'mean')\n",
    "X[ : , 1:3] = imputer.fit_transform(X[: , 1:3])"
   ]
  },
  {
   "cell_type": "code",
   "execution_count": 20,
   "id": "d79b31dd-683e-4b88-85ef-2b8df5a49d91",
   "metadata": {},
   "outputs": [],
   "source": [
    "#encoding categorical data\n",
    "\n",
    "labelEncoder_X = LabelEncoder()\n",
    "X[ : , 0] = labelEncoder_X.fit_transform(X[ : , 0])"
   ]
  },
  {
   "cell_type": "code",
   "execution_count": 21,
   "id": "74bd2af3-208f-4cc0-b3c6-5b9cb31937e0",
   "metadata": {},
   "outputs": [],
   "source": [
    "ct = ColumnTransformer(\n",
    "    transformers = [('encoder', OneHotEncoder(), [0])],\n",
    "    remainder='passthrough'\n",
    ")\n",
    "X = ct.fit_transform(X)"
   ]
  },
  {
   "cell_type": "code",
   "execution_count": 22,
   "id": "9424aa38-8181-4c7d-9ee3-54a8e920e04d",
   "metadata": {},
   "outputs": [],
   "source": [
    "labelEncoder_Y = LabelEncoder()\n",
    "Y = labelEncoder_Y.fit_transform(Y)"
   ]
  },
  {
   "cell_type": "code",
   "execution_count": 26,
   "id": "06ba550c-e65b-435c-ab1f-b9db845b52d5",
   "metadata": {},
   "outputs": [],
   "source": [
    "#Splitting the dataset into training and test sets\n",
    "X_train, X_test, Y_train, Y_test = train_test_split(X, Y, test_size = 0.2, random_state = 0)"
   ]
  },
  {
   "cell_type": "code",
   "execution_count": 29,
   "id": "2c944324-54e9-4f74-93bb-60673049ddb7",
   "metadata": {},
   "outputs": [],
   "source": [
    "#feature scaling\n",
    "sc_X = StandardScaler()\n",
    "X_train= sc_X.fit_transform(X_train)\n",
    "X_test = sc_X.fit_transform(X_test)"
   ]
  },
  {
   "cell_type": "code",
   "execution_count": null,
   "id": "32e8a209-5d73-43cf-b8db-6f585b14897b",
   "metadata": {},
   "outputs": [],
   "source": []
  }
 ],
 "metadata": {
  "kernelspec": {
   "display_name": "Python 3 (ipykernel)",
   "language": "python",
   "name": "python3"
  },
  "language_info": {
   "codemirror_mode": {
    "name": "ipython",
    "version": 3
   },
   "file_extension": ".py",
   "mimetype": "text/x-python",
   "name": "python",
   "nbconvert_exporter": "python",
   "pygments_lexer": "ipython3",
   "version": "3.10.9"
  }
 },
 "nbformat": 4,
 "nbformat_minor": 5
}
