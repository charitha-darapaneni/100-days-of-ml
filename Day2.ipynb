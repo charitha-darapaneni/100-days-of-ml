{
 "cells": [
  {
   "cell_type": "code",
   "execution_count": 1,
   "id": "402076ed-eca3-4ea8-8f86-1f4b0eaff9b4",
   "metadata": {},
   "outputs": [],
   "source": [
    "#importing libraries\n",
    "import pandas as pd\n",
    "import numpy as np\n",
    "from sklearn.preprocessing import LabelEncoder, OneHotEncoder\n",
    "from sklearn.compose import ColumnTransformer\n",
    "from sklearn.model_selection import train_test_split\n",
    "from sklearn.preprocessing import StandardScaler\n",
    "from sklearn.linear_model import LinearRegression\n",
    "import matplotlib.pyplot as plt"
   ]
  },
  {
   "cell_type": "code",
   "execution_count": 3,
   "id": "d5aee1c1-95df-40bc-8b3d-2c9300e094ef",
   "metadata": {},
   "outputs": [
    {
     "name": "stdout",
     "output_type": "stream",
     "text": [
      "   Unnamed: 0  YearsExperience   Salary\n",
      "0           0              1.2  39344.0\n",
      "1           1              1.4  46206.0\n",
      "2           2              1.6  37732.0\n",
      "3           3              2.1  43526.0\n",
      "4           4              2.3  39892.0\n"
     ]
    }
   ],
   "source": [
    "data = pd.read_csv('Salary_dataset.csv')\n",
    "print(data.head())"
   ]
  },
  {
   "cell_type": "markdown",
   "id": "7ced3535-b69f-4423-b858-bd357a477464",
   "metadata": {},
   "source": [
    "### Data Preprocessing"
   ]
  },
  {
   "cell_type": "code",
   "execution_count": 4,
   "id": "096540e1-debd-4228-bc4f-7aec4714f9bc",
   "metadata": {},
   "outputs": [],
   "source": [
    "data = data.drop('Unnamed: 0', axis = 1)"
   ]
  },
  {
   "cell_type": "code",
   "execution_count": 5,
   "id": "147ff9c5-a219-4d56-8c60-9f34de305a89",
   "metadata": {},
   "outputs": [
    {
     "name": "stdout",
     "output_type": "stream",
     "text": [
      "   YearsExperience   Salary\n",
      "0              1.2  39344.0\n",
      "1              1.4  46206.0\n",
      "2              1.6  37732.0\n",
      "3              2.1  43526.0\n",
      "4              2.3  39892.0\n"
     ]
    }
   ],
   "source": [
    "print(data.head())"
   ]
  },
  {
   "cell_type": "code",
   "execution_count": 6,
   "id": "2773c1a6-3650-44e1-a55d-c193764f7c6b",
   "metadata": {},
   "outputs": [
    {
     "name": "stdout",
     "output_type": "stream",
     "text": [
      "False\n"
     ]
    }
   ],
   "source": [
    "print(data.isnull().values.any())"
   ]
  },
  {
   "cell_type": "code",
   "execution_count": 7,
   "id": "1ad2f2f0-2068-4cc3-a73a-a0224be35bb2",
   "metadata": {},
   "outputs": [],
   "source": [
    "X = data.iloc[: , :-1].values"
   ]
  },
  {
   "cell_type": "code",
   "execution_count": 8,
   "id": "359b332a-91ce-4825-9ed0-b9ebc8607a0a",
   "metadata": {},
   "outputs": [],
   "source": [
    "y = data.iloc[: , 1].values"
   ]
  },
  {
   "cell_type": "code",
   "execution_count": 20,
   "id": "fc618eb5-4be3-4112-8ce2-26d68b08cd77",
   "metadata": {},
   "outputs": [],
   "source": [
    "#splitting data into train and test\n",
    "X_train, X_test, y_train, y_test = train_test_split(X, y, test_size = 0.4, random_state = 0)"
   ]
  },
  {
   "cell_type": "markdown",
   "id": "54d8a1ca-190f-4ece-8f74-2697e399949a",
   "metadata": {},
   "source": [
    "### Fitting the model"
   ]
  },
  {
   "cell_type": "code",
   "execution_count": 21,
   "id": "ac015759-0357-47b6-9ae1-d34e4665cecf",
   "metadata": {},
   "outputs": [],
   "source": [
    "regressor = LinearRegression()"
   ]
  },
  {
   "cell_type": "code",
   "execution_count": 22,
   "id": "325543f9-a45b-4699-975c-5487cdd65e7f",
   "metadata": {},
   "outputs": [],
   "source": [
    "regressor = regressor.fit(X_train, y_train)"
   ]
  },
  {
   "cell_type": "code",
   "execution_count": 23,
   "id": "02378f32-b613-4f4e-bc9c-49f147ad7029",
   "metadata": {},
   "outputs": [],
   "source": [
    "r_sq = regressor.score(X_train,y_train)"
   ]
  },
  {
   "cell_type": "code",
   "execution_count": 24,
   "id": "32d018d6-f03f-41ff-bbef-1fb2fd4d064f",
   "metadata": {},
   "outputs": [
    {
     "name": "stdout",
     "output_type": "stream",
     "text": [
      "coefficient of determination: 0.9438034942328755\n"
     ]
    }
   ],
   "source": [
    "print(f\"coefficient of determination: {r_sq}\")"
   ]
  },
  {
   "cell_type": "code",
   "execution_count": 25,
   "id": "f63e0cd0-890e-4e18-a584-abda4bcd7a3b",
   "metadata": {},
   "outputs": [
    {
     "name": "stdout",
     "output_type": "stream",
     "text": [
      "model intercept: 25899.2602427921\n"
     ]
    }
   ],
   "source": [
    "print(f\"model intercept: {regressor.intercept_}\")"
   ]
  },
  {
   "cell_type": "code",
   "execution_count": 26,
   "id": "44ca3d0a-5e20-4d48-ab35-e441967b9d5c",
   "metadata": {},
   "outputs": [
    {
     "name": "stdout",
     "output_type": "stream",
     "text": [
      "slope: [9407.35651165]\n"
     ]
    }
   ],
   "source": [
    "print(f\"slope: {regressor.coef_}\")"
   ]
  },
  {
   "cell_type": "markdown",
   "id": "d7f2e858-d6ea-4dfb-83ba-0647e641c2e7",
   "metadata": {},
   "source": [
    "### Predicting the Results"
   ]
  },
  {
   "cell_type": "code",
   "execution_count": 27,
   "id": "f7d73e8b-c9f6-4f25-90ac-dfd880dbab5d",
   "metadata": {},
   "outputs": [],
   "source": [
    "y_pred = regressor.predict(X_test)"
   ]
  },
  {
   "cell_type": "code",
   "execution_count": 28,
   "id": "6171f1ab-8788-4ae6-828c-c94c40f213fa",
   "metadata": {},
   "outputs": [
    {
     "name": "stdout",
     "output_type": "stream",
     "text": [
      "predicted response: [ 40951.03066143 123735.76796394  65410.15759172  63528.68628939\n",
      " 116209.88275462 108683.9975453  117150.61840578  64469.42194055\n",
      "  76698.98540569 101158.11233598  54121.32977774  74817.51410337]\n"
     ]
    }
   ],
   "source": [
    "print(f\"predicted response: {y_pred}\")"
   ]
  },
  {
   "cell_type": "code",
   "execution_count": 29,
   "id": "5b425d61-2f21-4846-99e1-ec7555b6211e",
   "metadata": {},
   "outputs": [
    {
     "data": {
      "text/plain": [
       "[<matplotlib.lines.Line2D at 0x2038f906b30>]"
      ]
     },
     "execution_count": 29,
     "metadata": {},
     "output_type": "execute_result"
    },
    {
     "data": {
      "image/png": "[encoded data removed]",
      "text/plain": [
       "<Figure size 640x480 with 1 Axes>"
      ]
     },
     "metadata": {},
     "output_type": "display_data"
    }
   ],
   "source": [
    "plt.scatter(X_train, y_train, color = 'red')\n",
    "plt.plot(X_train , regressor.predict(X_train), color ='blue')"
   ]
  },
  {
   "cell_type": "code",
   "execution_count": 30,
   "id": "20e13d37-ad9b-497b-bbcc-902709471a68",
   "metadata": {},
   "outputs": [
    {
     "data": {
      "text/plain": [
       "[<matplotlib.lines.Line2D at 0x2038f972e30>]"
      ]
     },
     "execution_count": 30,
     "metadata": {},
     "output_type": "execute_result"
    },
    {
     "data": {
      "image/png": "[encoded data removed]",
      "text/plain": [
       "<Figure size 640x480 with 1 Axes>"
      ]
     },
     "metadata": {},
     "output_type": "display_data"
    }
   ],
   "source": [
    "plt.scatter(X_test, y_test, color = 'red')\n",
    "plt.plot(X_test , regressor.predict(X_test), color ='blue')"
   ]
  },
  {
   "cell_type": "markdown",
   "id": "26683bf6-aa33-40ae-bc38-6aa5398c1eba",
   "metadata": {},
   "source": [
    "### Results Discussion"
   ]
  },
  {
   "cell_type": "markdown",
   "id": "703a60eb-59c5-48bc-bbe1-884e3fad5b1a",
   "metadata": {},
   "source": [
    "- 94% of the changes in Salary can be explained by Years of Experience.\n",
    "- Around *25,899* is the starting salary when experience is 0.\n",
    "- For every extra year of experience, salary increases by about 9,407."
   ]
  }
 ],
 "metadata": {
  "kernelspec": {
   "display_name": "Python 3 (ipykernel)",
   "language": "python",
   "name": "python3"
  },
  "language_info": {
   "codemirror_mode": {
    "name": "ipython",
    "version": 3
   },
   "file_extension": ".py",
   "mimetype": "text/x-python",
   "name": "python",
   "nbconvert_exporter": "python",
   "pygments_lexer": "ipython3",
   "version": "3.10.9"
  }
 },
 "nbformat": 4,
 "nbformat_minor": 5
}
